{
 "cells": [
  {
   "cell_type": "code",
   "execution_count": null,
   "metadata": {},
   "outputs": [
    {
     "name": "stderr",
     "output_type": "stream",
     "text": [
      "Using TensorFlow backend.\n"
     ]
    },
    {
     "name": "stdout",
     "output_type": "stream",
     "text": [
      "Shape before one-hot encoding:  (60000,)\n",
      "Shape after one-hot encoding:  (60000, 10)\n",
      "Train on 60000 samples, validate on 10000 samples\n",
      "Epoch 1/10\n",
      "60000/60000 [==============================] - 22s 372us/step - loss: 0.2193 - accuracy: 0.9370 - val_loss: 0.0835 - val_accuracy: 0.9742\n",
      "Epoch 2/10\n",
      "60000/60000 [==============================] - 23s 376us/step - loss: 0.0649 - accuracy: 0.9809 - val_loss: 0.0696 - val_accuracy: 0.9766\n",
      "Epoch 3/10\n",
      "60000/60000 [==============================] - 22s 375us/step - loss: 0.0388 - accuracy: 0.9887 - val_loss: 0.0542 - val_accuracy: 0.9823\n",
      "Epoch 4/10\n",
      "60000/60000 [==============================] - 22s 364us/step - loss: 0.0243 - accuracy: 0.9930 - val_loss: 0.0477 - val_accuracy: 0.9842\n",
      "Epoch 5/10\n",
      "60000/60000 [==============================] - 23s 376us/step - loss: 0.0157 - accuracy: 0.9954 - val_loss: 0.0535 - val_accuracy: 0.9819\n",
      "Epoch 6/10\n",
      "60000/60000 [==============================] - 23s 386us/step - loss: 0.0104 - accuracy: 0.9970 - val_loss: 0.0505 - val_accuracy: 0.9834\n",
      "Epoch 7/10\n",
      "60000/60000 [==============================] - 27s 447us/step - loss: 0.0069 - accuracy: 0.9982 - val_loss: 0.0546 - val_accuracy: 0.9842\n",
      "Epoch 8/10\n",
      "60000/60000 [==============================] - 23s 386us/step - loss: 0.0053 - accuracy: 0.9987 - val_loss: 0.0573 - val_accuracy: 0.9827\n",
      "Epoch 9/10\n",
      "60000/60000 [==============================] - 23s 380us/step - loss: 0.0043 - accuracy: 0.9988 - val_loss: 0.0643 - val_accuracy: 0.9825\n",
      "Epoch 10/10\n",
      "59904/60000 [============================>.] - ETA: 0s - loss: 0.0065 - accuracy: 0.9979"
     ]
    }
   ],
   "source": [
    "from keras.datasets import mnist\n",
    "from keras.models import Sequential\n",
    "from keras.layers import Dense, Dropout, Conv2D, MaxPool2D, Flatten\n",
    "from keras.utils import np_utils\n",
    "\n",
    "# to calculate accuracy\n",
    "from sklearn.metrics import accuracy_score\n",
    "\n",
    "# loading the dataset\n",
    "(X_train, y_train), (X_test, y_test) = mnist.load_data()\n",
    "\n",
    "# building the input vector from the 28x28 pixels\n",
    "X_train = X_train.reshape(X_train.shape[0], 28, 28, 1)\n",
    "X_test = X_test.reshape(X_test.shape[0], 28, 28, 1)\n",
    "X_train = X_train.astype('float32')\n",
    "X_test = X_test.astype('float32')\n",
    "\n",
    "# normalizing the data to help with the training\n",
    "X_train /= 255\n",
    "X_test /= 255\n",
    "\n",
    "# one-hot encoding using keras' numpy-related utilities\n",
    "n_classes = 10\n",
    "print(\"Shape before one-hot encoding: \", y_train.shape)\n",
    "Y_train = np_utils.to_categorical(y_train, n_classes)\n",
    "Y_test = np_utils.to_categorical(y_test, n_classes)\n",
    "print(\"Shape after one-hot encoding: \", Y_train.shape)\n",
    "\n",
    "# building a linear stack of layers with the sequential model\n",
    "model = Sequential()\n",
    "# convolutional layer\n",
    "model.add(Conv2D(20, kernel_size=(3,3), strides=(1,1), padding='valid', activation='relu', input_shape=(28,28,1)))\n",
    "model.add(MaxPool2D(pool_size=(1,1)))\n",
    "# flatten output of conv\n",
    "model.add(Flatten())\n",
    "# hidden layer\n",
    "model.add(Dense(100, activation='relu'))\n",
    "# output layer\n",
    "model.add(Dense(10, activation='softmax'))\n",
    "\n",
    "# compiling the sequential model\n",
    "model.compile(loss='categorical_crossentropy', metrics=['accuracy'], optimizer='adam')\n",
    "\n",
    "# training the model for 10 epochs\n",
    "model.fit(X_train, Y_train, batch_size=128, epochs=10, validation_data=(X_test, Y_test))\n"
   ]
  },
  {
   "cell_type": "code",
   "execution_count": null,
   "metadata": {},
   "outputs": [],
   "source": []
  }
 ],
 "metadata": {
  "kernelspec": {
   "display_name": "Python 3",
   "language": "python",
   "name": "python3"
  },
  "language_info": {
   "codemirror_mode": {
    "name": "ipython",
    "version": 3
   },
   "file_extension": ".py",
   "mimetype": "text/x-python",
   "name": "python",
   "nbconvert_exporter": "python",
   "pygments_lexer": "ipython3",
   "version": "3.7.6"
  }
 },
 "nbformat": 4,
 "nbformat_minor": 4
}
